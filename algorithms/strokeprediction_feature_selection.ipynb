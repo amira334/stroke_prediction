{
  "nbformat": 4,
  "nbformat_minor": 0,
  "metadata": {
    "colab": {
      "provenance": []
    },
    "kernelspec": {
      "name": "python3",
      "display_name": "Python 3"
    },
    "language_info": {
      "name": "python"
    }
  },
  "cells": [
    {
      "cell_type": "code",
      "execution_count": 1,
      "metadata": {
        "id": "Aa1h-8OwQSB6"
      },
      "outputs": [],
      "source": [
        "import pandas as pd\n",
        "import numpy as np\n",
        "import matplotlib.pyplot as plt\n",
        "import seaborn as sns\n",
        "from google.colab import drive\n",
        "from sklearn.preprocessing import LabelEncoder"
      ]
    },
    {
      "cell_type": "code",
      "source": [
        "drive.mount('/content/gdrive')"
      ],
      "metadata": {
        "id": "ND0OZTtXQty4"
      },
      "execution_count": null,
      "outputs": []
    },
    {
      "cell_type": "code",
      "source": [
        "data = pd.read_csv('/content/gdrive/MyDrive/Strokesdataset.csv')"
      ],
      "metadata": {
        "id": "gr8DwG_fRKLh"
      },
      "execution_count": 9,
      "outputs": []
    },
    {
      "cell_type": "code",
      "source": [
        "data = data.drop(['id'], axis=1)"
      ],
      "metadata": {
        "id": "vtrVzpzf3cfC"
      },
      "execution_count": 10,
      "outputs": []
    },
    {
      "cell_type": "code",
      "source": [
        "data.dropna(how='any',inplace=True)"
      ],
      "metadata": {
        "id": "RLlcoHPxRbrY"
      },
      "execution_count": 11,
      "outputs": []
    },
    {
      "cell_type": "code",
      "source": [
        "for column in data.columns:\n",
        "  if data[column].dtype == np.number:\n",
        "    continue\n",
        "  data[column] = LabelEncoder().fit_transform(data[column])"
      ],
      "metadata": {
        "id": "4Qqp5VsYRlhX"
      },
      "execution_count": null,
      "outputs": []
    },
    {
      "cell_type": "code",
      "source": [
        "X = data.drop('stroke', axis='columns')\n",
        "y = data['stroke']"
      ],
      "metadata": {
        "id": "Qt78lN-xRoVg"
      },
      "execution_count": 13,
      "outputs": []
    },
    {
      "cell_type": "code",
      "source": [
        "from sklearn.feature_selection import SelectKBest, chi2\n",
        "X_new = SelectKBest(score_func=chi2 ,k=6)\n",
        "X_new.fit_transform(X, y)"
      ],
      "metadata": {
        "id": "sY6H_hRFQ1Qm"
      },
      "execution_count": null,
      "outputs": []
    },
    {
      "cell_type": "code",
      "source": [
        "selected_feat = X.columns[(X_new.get_support())]\n",
        "selected_feat"
      ],
      "metadata": {
        "id": "6NGQB4TWRlN1"
      },
      "execution_count": null,
      "outputs": []
    }
  ]
}